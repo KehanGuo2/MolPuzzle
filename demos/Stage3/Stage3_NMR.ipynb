{
 "cells": [
  {
   "cell_type": "code",
   "execution_count": 1,
   "metadata": {},
   "outputs": [],
   "source": [
    "## Dataset construction"
   ]
  },
  {
   "cell_type": "code",
   "execution_count": 2,
   "metadata": {},
   "outputs": [
    {
     "name": "stdout",
     "output_type": "stream",
     "text": [
      "base\n"
     ]
    }
   ],
   "source": [
    "import os\n",
    "print (os.environ['CONDA_DEFAULT_ENV'])"
   ]
  },
  {
   "cell_type": "markdown",
   "metadata": {},
   "source": [
    "## Evaluation"
   ]
  },
  {
   "cell_type": "code",
   "execution_count": 3,
   "metadata": {
    "ExecuteTime": {
     "end_time": "2024-05-20T22:06:12.418248844Z",
     "start_time": "2024-05-20T22:06:12.343315076Z"
    }
   },
   "outputs": [],
   "source": [
    "import pandas as pd\n",
    "data = pd.read_csv(\"./Stage3.csv\")\n",
    "data = data[data['C_NMR'] != 'No NMR data was extracted from the provided text.']"
   ]
  },
  {
   "cell_type": "code",
   "execution_count": 4,
   "metadata": {
    "ExecuteTime": {
     "end_time": "2024-05-20T22:06:14.579942438Z",
     "start_time": "2024-05-20T22:06:14.459839893Z"
    }
   },
   "outputs": [
    {
     "data": {
      "text/html": [
       "<div>\n",
       "<style scoped>\n",
       "    .dataframe tbody tr th:only-of-type {\n",
       "        vertical-align: middle;\n",
       "    }\n",
       "\n",
       "    .dataframe tbody tr th {\n",
       "        vertical-align: top;\n",
       "    }\n",
       "\n",
       "    .dataframe thead th {\n",
       "        text-align: right;\n",
       "    }\n",
       "</style>\n",
       "<table border=\"1\" class=\"dataframe\">\n",
       "  <thead>\n",
       "    <tr style=\"text-align: right;\">\n",
       "      <th></th>\n",
       "      <th>Unnamed: 0</th>\n",
       "      <th>Molecule Index</th>\n",
       "      <th>SMILES</th>\n",
       "      <th>Formula</th>\n",
       "      <th>CoT</th>\n",
       "      <th>fragments pool</th>\n",
       "      <th>H_NMR</th>\n",
       "      <th>C_NMR</th>\n",
       "    </tr>\n",
       "  </thead>\n",
       "  <tbody>\n",
       "    <tr>\n",
       "      <th>0</th>\n",
       "      <td>0</td>\n",
       "      <td>5_99\\n</td>\n",
       "      <td>CCCCC1=CC=CC=C1</td>\n",
       "      <td>C10H14</td>\n",
       "      <td>['To analyze the potential structures for the ...</td>\n",
       "      <td>1. C1=CC=C(C=C1)C\\n2. C=C1C=CC=CC1\\n3. C1=CC=C...</td>\n",
       "      <td>0.87 (3H, t, J = 6.5 Hz), 1.30 (2H, tq, J = 6....</td>\n",
       "      <td>14.0 (1C, s), 22.6 (1C, s), 32.8 (1C, s), 35.5...</td>\n",
       "    </tr>\n",
       "    <tr>\n",
       "      <th>1</th>\n",
       "      <td>1</td>\n",
       "      <td>5_98\\n</td>\n",
       "      <td>CCCCOCCCC</td>\n",
       "      <td>C8H18O</td>\n",
       "      <td>['To analyze the IR and mass spectra for a mol...</td>\n",
       "      <td>C8H18O could produce the following fragments b...</td>\n",
       "      <td>0.88 (6H, t, J = 7.1 Hz), 1.40 (4H, h, J = 7.1...</td>\n",
       "      <td>14.02 (2C, s), 19.15 (2C, s), 31.1 (2C, s), 71...</td>\n",
       "    </tr>\n",
       "    <tr>\n",
       "      <th>2</th>\n",
       "      <td>2</td>\n",
       "      <td>5_97\\n</td>\n",
       "      <td>CCC[N+](=O)[O-]</td>\n",
       "      <td>C3H7NO2</td>\n",
       "      <td>[\"To analyze the provided IR and Mass spectra ...</td>\n",
       "      <td>1. CC(N)C(=O)O\\n2. CNCC(=O)O\\n3. NCC(=O)O\\n4. ...</td>\n",
       "      <td>1H NMR: 2.24 (3H), 5.95 (1H, dd, J = 10.9, 1.5...</td>\n",
       "      <td>13.72 (1C, s), 29.2 (1C, s), 71.7 (1C, s)</td>\n",
       "    </tr>\n",
       "    <tr>\n",
       "      <th>3</th>\n",
       "      <td>3</td>\n",
       "      <td>5_96\\n</td>\n",
       "      <td>C1=CC=C(C=C1)CCCBr</td>\n",
       "      <td>C9H11Br</td>\n",
       "      <td>[\"To analyze the molecular structure of a comp...</td>\n",
       "      <td>1. c1ccccc1\\n2. c1ccccc1Br\\n3. CCC\\n4. CC(C)</td>\n",
       "      <td>2.11 (2H, tt, J = 7.3, 6.8 Hz), 2.62 (2H, t, J...</td>\n",
       "      <td>5.95 (1H, dd, J = 10.9, 1.5 Hz), 6.29-6.54 (2H...</td>\n",
       "    </tr>\n",
       "    <tr>\n",
       "      <th>4</th>\n",
       "      <td>4</td>\n",
       "      <td>5_95\\n</td>\n",
       "      <td>C[C@H]([C@@H](C(=O)O)N)O</td>\n",
       "      <td>C4H9NO3</td>\n",
       "      <td>['To analyze and determine potential structure...</td>\n",
       "      <td>1. `CC(C(=O)O)N`\\n2. `C(C(C(=O)O)N)O`\\n3. `CC(...</td>\n",
       "      <td>1.19 (3H, d, J = 6.2 Hz), 3.66-3.80 (2H, 3.73 ...</td>\n",
       "      <td>18.7 (1C, s), 61.6 (1C, s), 67.1 (1C, s), 174....</td>\n",
       "    </tr>\n",
       "  </tbody>\n",
       "</table>\n",
       "</div>"
      ],
      "text/plain": [
       "   Unnamed: 0 Molecule Index                    SMILES  Formula  \\\n",
       "0           0         5_99\\n           CCCCC1=CC=CC=C1   C10H14   \n",
       "1           1         5_98\\n                 CCCCOCCCC   C8H18O   \n",
       "2           2         5_97\\n           CCC[N+](=O)[O-]  C3H7NO2   \n",
       "3           3         5_96\\n        C1=CC=C(C=C1)CCCBr  C9H11Br   \n",
       "4           4         5_95\\n  C[C@H]([C@@H](C(=O)O)N)O  C4H9NO3   \n",
       "\n",
       "                                                 CoT  \\\n",
       "0  ['To analyze the potential structures for the ...   \n",
       "1  ['To analyze the IR and mass spectra for a mol...   \n",
       "2  [\"To analyze the provided IR and Mass spectra ...   \n",
       "3  [\"To analyze the molecular structure of a comp...   \n",
       "4  ['To analyze and determine potential structure...   \n",
       "\n",
       "                                      fragments pool  \\\n",
       "0  1. C1=CC=C(C=C1)C\\n2. C=C1C=CC=CC1\\n3. C1=CC=C...   \n",
       "1  C8H18O could produce the following fragments b...   \n",
       "2  1. CC(N)C(=O)O\\n2. CNCC(=O)O\\n3. NCC(=O)O\\n4. ...   \n",
       "3       1. c1ccccc1\\n2. c1ccccc1Br\\n3. CCC\\n4. CC(C)   \n",
       "4  1. `CC(C(=O)O)N`\\n2. `C(C(C(=O)O)N)O`\\n3. `CC(...   \n",
       "\n",
       "                                               H_NMR  \\\n",
       "0  0.87 (3H, t, J = 6.5 Hz), 1.30 (2H, tq, J = 6....   \n",
       "1  0.88 (6H, t, J = 7.1 Hz), 1.40 (4H, h, J = 7.1...   \n",
       "2  1H NMR: 2.24 (3H), 5.95 (1H, dd, J = 10.9, 1.5...   \n",
       "3  2.11 (2H, tt, J = 7.3, 6.8 Hz), 2.62 (2H, t, J...   \n",
       "4  1.19 (3H, d, J = 6.2 Hz), 3.66-3.80 (2H, 3.73 ...   \n",
       "\n",
       "                                               C_NMR  \n",
       "0  14.0 (1C, s), 22.6 (1C, s), 32.8 (1C, s), 35.5...  \n",
       "1  14.02 (2C, s), 19.15 (2C, s), 31.1 (2C, s), 71...  \n",
       "2          13.72 (1C, s), 29.2 (1C, s), 71.7 (1C, s)  \n",
       "3  5.95 (1H, dd, J = 10.9, 1.5 Hz), 6.29-6.54 (2H...  \n",
       "4  18.7 (1C, s), 61.6 (1C, s), 67.1 (1C, s), 174....  "
      ]
     },
     "execution_count": 4,
     "metadata": {},
     "output_type": "execute_result"
    }
   ],
   "source": [
    "data.head()"
   ]
  },
  {
   "cell_type": "code",
   "execution_count": null,
   "metadata": {
    "ExecuteTime": {
     "end_time": "2024-05-20T22:06:21.520796231Z",
     "start_time": "2024-05-20T22:06:21.485643669Z"
    }
   },
   "outputs": [],
   "source": [
    "import pandas as pd\n",
    "import os\n",
    "iteration = 3\n",
    "\n",
    "ratios = {\n",
    "        'Molecule generation':1\n",
    "    }\n",
    "for i in range(0, iteration):\n",
    "    total_samples = 100\n",
    "    samples_per_class = {clss: int(total_samples * ratio) for clss, ratio in ratios.items()}\n",
    "    print(samples_per_class)\n",
    "\n",
    "    sampled_data = pd.DataFrame()\n",
    "    for clss, n_samples in samples_per_class.items():\n",
    "        print(clss)\n",
    "        sampled_class_data = data.sample(n=100)\n",
    "        sampled_data = pd.concat([sampled_data, sampled_class_data])\n",
    "\n",
    "\n",
    "    if len(sampled_data) < total_samples:\n",
    "        additional_samples = data[~data.index.isin(sampled_data.index)].sample(n=total_samples - len(sampled_data), random_state=42)\n",
    "        sampled_data = pd.concat([sampled_data, additional_samples])\n",
    "    os.makedirs('./data/mol_figures/mol_understanding', exist_ok=True)\n",
    "    sampled_data.to_csv(f'./data/mol_figures/step3/C_NMR_sampled_questions_answers_{i}.csv', index=False)\n",
    "    print(\"Sampled data saved to 'sampled_questions_answers.csv'\")"
   ]
  },
  {
   "cell_type": "code",
   "execution_count": 6,
   "metadata": {
    "ExecuteTime": {
     "end_time": "2024-05-20T22:06:29.603921446Z",
     "start_time": "2024-05-20T22:06:28.571141586Z"
    },
    "collapsed": false,
    "jupyter": {
     "outputs_hidden": false
    }
   },
   "outputs": [],
   "source": [
    "import torch\n",
    "from transformers import AutoModelForCausalLM, AutoTokenizer\n",
    "\n",
    "def load_model_and_tokenizer(model_path, tokenizer_path=None, device='cuda:0', **kwargs):\n",
    "    model = AutoModelForCausalLM.from_pretrained(\n",
    "        model_path,\n",
    "        torch_dtype=torch.float16,\n",
    "        trust_remote_code=True,\n",
    "        **kwargs\n",
    "    ).to(device).eval()\n",
    "\n",
    "    tokenizer_path = model_path if tokenizer_path is None else tokenizer_path\n",
    "\n",
    "    tokenizer = AutoTokenizer.from_pretrained(\n",
    "        tokenizer_path,\n",
    "        trust_remote_code=True,\n",
    "        use_fast=False,\n",
    "        padding_side='left',\n",
    "    )\n",
    "    tokenizer.pad_token = tokenizer.unk_token\n",
    "    if not tokenizer.pad_token:\n",
    "        tokenizer.pad_token = tokenizer.eos_token\n",
    "    tokenizer.padding_side = 'left'\n",
    "    return model, tokenizer\n",
    "\n",
    "def llm_generate(inputs, conv_template, model, tokenizer, batch_size=80, random_sample=False, max_new_tokens=256):\n",
    "    input_ids_list = []\n",
    "    for i in range(len(inputs)):\n",
    "        conv_template.append_message(conv_template.roles[0], inputs[i])\n",
    "        conv_template.append_message(conv_template.roles[1], None)\n",
    "        prompt = conv_template.get_prompt()\n",
    "        encoding = tokenizer(prompt)\n",
    "        toks = encoding.input_ids\n",
    "        input_ids = torch.tensor(toks).to(model.device)\n",
    "        input_ids_list.append(input_ids)\n",
    "        conv_template.messages = []\n",
    "    pad_tok = tokenizer.pad_token_id\n",
    "    max_input_length = max([ids.size(0) for ids in input_ids_list])\n",
    "    # Pad each input_ids tensor to the maximum length\n",
    "    padded_input_ids_list = []\n",
    "    for ids in input_ids_list:\n",
    "        pad_length = max_input_length - ids.size(0)\n",
    "        padded_ids = torch.cat([torch.full((pad_length,), pad_tok, device=model.device), ids], dim=0)\n",
    "        padded_input_ids_list.append(padded_ids)\n",
    "    input_ids_tensor = torch.stack(padded_input_ids_list, dim=0)\n",
    "    attn_mask = (input_ids_tensor != pad_tok).type(input_ids_tensor.dtype)\n",
    "    generation_config = model.generation_config\n",
    "    generation_config.max_new_tokens = max_new_tokens\n",
    "    if random_sample:\n",
    "        generation_config.do_sample = True\n",
    "        generation_config.temperature = 0.7\n",
    "        generation_config.top_p = 0.9\n",
    "    else:\n",
    "        generation_config.do_sample = False\n",
    "        generation_config.temperature = None\n",
    "        generation_config.top_p = None\n",
    "    flag = False\n",
    "    while not flag:\n",
    "        try:\n",
    "            output_ids_new = []\n",
    "            for i in range(0, len(input_ids_tensor), batch_size):\n",
    "                input_ids_tensor_batch = input_ids_tensor[i:i + batch_size]\n",
    "                attn_mask_batch = attn_mask[i:i + batch_size]\n",
    "                output_ids_batch = model.generate(input_ids_tensor_batch,\n",
    "                                                  attention_mask=attn_mask_batch,\n",
    "                                                  generation_config=generation_config,\n",
    "                                                  pad_token_id=tokenizer.pad_token_id)\n",
    "\n",
    "                for j in range(len(output_ids_batch)):\n",
    "                    output_ids_new.append(output_ids_batch[j][max_input_length:])\n",
    "            flag = True\n",
    "        # except cuda out of memory error\n",
    "        except torch.cuda.OutOfMemoryError:\n",
    "            batch_size = batch_size // 2\n",
    "    gen_strs = [tokenizer.decode(output_id, skip_special_tokens=True) for output_id in output_ids_new]\n",
    "    return gen_strs"
   ]
  },
  {
   "cell_type": "markdown",
   "metadata": {},
   "source": [
    "## few-shot evaluation"
   ]
  },
  {
   "cell_type": "code",
   "execution_count": 7,
   "metadata": {
    "ExecuteTime": {
     "end_time": "2024-05-20T22:06:46.627827184Z",
     "start_time": "2024-05-20T22:06:45.878014750Z"
    }
   },
   "outputs": [],
   "source": [
    "import openai\n",
    "from openai import OpenAI\n",
    "import anthropic\n",
    "import os\n",
    "from fastchat.model.model_adapter import get_conversation_template\n",
    "from utils import *\n",
    "import pandas as pd\n",
    "# Set your OpenAI API key\n",
    "os.environ['OPENAI_API_KEY'] = ''\n",
    "os.environ['ANTHROPIC_API_KEY'] = ''\n",
    "\n",
    "# Define the prompt\n",
    "prompt = \"\"\"\n",
    "As an expert organic chemist, your task is to analyze and determine the one potential structures that can be selected as the starting points for the molecular construction\\\n",
    "Utilize your knowledge to systematically explore and identify plausible structural configurations based on the fragment pools provided.\n",
    "Do the analysis internally and only output the final SMILES.\n",
    "\"\"\"\n",
    "cache_dir = \"/scratch365/kguo2/TRANS_cache/\"\n",
    "\n",
    "def get_llm_response(model_name,model,prompt):\n",
    "    if 'gpt' in model_name:\n",
    "        openai.api_key = os.getenv(\"OPENAI_API_KEY\")\n",
    "        client = OpenAI()\n",
    "        response = client.chat.completions.create(\n",
    "            model=model_name,\n",
    "            messages=[\n",
    "                {\"role\": \"system\", \"content\": \"You are an expert organic chemist.\"},\n",
    "                {\"role\": \"user\", \"content\": prompt}\n",
    "            ],\n",
    "            max_tokens=150,\n",
    "            temperature=0.7\n",
    "        ).choices[0].message.content\n",
    "    elif 'claude' in model_name:\n",
    "        client = anthropic.Anthropic()\n",
    "        response = client.messages.create(\n",
    "            max_tokens=1024,\n",
    "            messages=[\n",
    "                {\n",
    "                    \"role\": \"user\",\n",
    "                    \"content\": prompt,\n",
    "                }\n",
    "            ],\n",
    "            model=\"claude-3-opus-20240229\",\n",
    "        )\n",
    "    else:\n",
    "        conv_template = get_conversation_template(model_paths[model_name])\n",
    "        conv_template.system_prompt = \"You are an expert organic chemist.\"\n",
    "        response = llm_generate(prompt, conv_template, model, tokenizer, batch_size=10, random_sample=True, max_new_tokens=1024)\n",
    "    return response\n",
    "\n",
    "def generate_prompt(prompt):\n",
    "    prompt = prompt + 'Target C-NMR Spectrum: ' + row['C_NMR'] + '\\n' + 'fragments pool:'+ '\\n' + row['fragments pool'] + '\\n' + \"output:\"\n",
    "    return prompt\n",
    "\n",
    "def is_open_source(model_name):\n",
    "    if 'claude' in model_name or 'gemini' in model_name or 'gpt' in model_name:\n",
    "        return False\n",
    "    return True\n"
   ]
  },
  {
   "cell_type": "code",
   "execution_count": 8,
   "metadata": {},
   "outputs": [
    {
     "name": "stdout",
     "output_type": "stream",
     "text": [
      "/scratch365/kguo2/TRANS_cache/\n"
     ]
    }
   ],
   "source": [
    "os.environ['TRANSFORMERS_CACHE'] = \"/scratch365/kguo2/TRANS_cache/\"\n",
    "os.environ['HF_HUB_CACHE'] = \"/scratch365/kguo2/TRANS_cache/\"\n",
    "os.environ['HF_HOME'] = \"/scratch365/kguo2/TRANS_cache/\"\n",
    "os.environ['HUGGINGFACE_HUB_CACHE']=\"/scratch365/kguo2/TRANS_cache/\"\n",
    "os.environ['HF_DATASETS_CACHE']=\"/scratch365/kguo2/TRANS_cache/\"\n",
    "print(os.environ['HF_HUB_CACHE'])"
   ]
  },
  {
   "cell_type": "code",
   "execution_count": 9,
   "metadata": {},
   "outputs": [],
   "source": [
    "import pandas as pd\n",
    "data = pd.read_csv(\"./data/mol_figures/step3/step3.csv\")\n",
    "questions = []\n",
    "for _, row in data.iterrows():\n",
    "    question = generate_prompt(prompt)\n",
    "    questions.append(question)\n"
   ]
  },
  {
   "cell_type": "code",
   "execution_count": 10,
   "metadata": {},
   "outputs": [
    {
     "data": {
      "text/plain": [
       "590.0655021834061"
      ]
     },
     "execution_count": 10,
     "metadata": {},
     "output_type": "execute_result"
    }
   ],
   "source": [
    "total_length = sum(len(item) for item in questions)\n",
    "\n",
    "# Calculate the mean length\n",
    "mean_length = total_length / len(questions) if questions else 0 \n",
    "mean_length"
   ]
  },
  {
   "cell_type": "code",
   "execution_count": null,
   "metadata": {},
   "outputs": [],
   "source": [
    "! huggingface-cli login"
   ]
  },
  {
   "cell_type": "markdown",
   "metadata": {},
   "source": [
    "跑下面哪个框框！！！！"
   ]
  },
  {
   "cell_type": "code",
   "execution_count": null,
   "metadata": {},
   "outputs": [],
   "source": [
    "iteration = 3\n",
    "model_names = ['gpt-3.5-turbo', 'gpt-4o', 'claude']\n",
    "\n",
    "for model_name in model_names:\n",
    "    for i in range(0, iteration):\n",
    "        question_data = pd.read_csv(f'./data/mol_figures/step3/C_NMR_sampled_questions_answers_{i}.csv')\n",
    "        if is_open_source(model_name) and i == 0:\n",
    "            print(model_name)\n",
    "            model, tokenizer = load_model_and_tokenizer(model_paths[model_name],\n",
    "                                                        cache_dir=cache_dir,\n",
    "                                                        low_cpu_mem_usage=True,\n",
    "                                                        use_cache=False,\n",
    "                                                        device='cuda')\n",
    "            # print('running')\n",
    "                                                    \n",
    "        data_frame = pd.DataFrame(columns=[\"Molecule Index\", \"Generated Response\"])\n",
    "        prompts = []\n",
    "        for index, row in question_data.iterrows():\n",
    "            prompt = \"\"\"\n",
    "            As an expert organic chemist, your task is to analyze and determine the one potential structures that can be selected as the starting points for the molecular construction.Utilize your knowledge to systematically explore and identify plausible structural configurations based on the fragment pool provided.Do the analysis internally and only output the final SMILES.\n",
    "            Here is an example:\n",
    "            Target C-NMR Spectrum: 31.1 (6C, s), 34.7 (2C, s), 112.3 (2C, s), 119.3 (1C, s), 152.6 (2C, s), 155.3 (1C, s)\n",
    "            Fragments pool: C=C\n",
    "                            C1=CC=CC=C1\n",
    "                            CC\n",
    "                            CCC\n",
    "                            CC(C)C\n",
    "                            CC(C)(C)C\n",
    "                            O\n",
    "                            C=C-C\n",
    "                            C=C-CC\n",
    "                            C=C-C(O)\n",
    "                            C=C-C(C)\n",
    "            output: C=C-C,\n",
    "                    C=C-C(C)\n",
    "                    \"\"\"\n",
    "            prompt = generate_prompt(prompt)\n",
    "            prompts.append(prompt)\n",
    "        if is_open_source(model_name):\n",
    "            generated_responses = get_llm_response(model_name,model, prompts)\n",
    "            for index, row in question_data.iterrows():\n",
    "                data_frame.loc[len(data_frame)] = [row['Molecule Index'], generated_responses[index]]\n",
    "        else:\n",
    "            for index, row in question_data.iterrows():\n",
    "                generated_response = get_llm_response(model_name,_, prompt)\n",
    "                if 'claude' in model_name:\n",
    "                    generated_response = generated_response.content[0].text\n",
    "                data_frame.loc[len(data_frame)] = [row['Molecule Index'], generated_response]\n",
    "                data_frame.to_csv(f'./data/mol_figures/step3/C_NMR/{model_name}_generated_responses_{i}.csv', index=False)\n",
    "                print(index, generated_response)\n",
    "    if is_open_source(model_name):\n",
    "        del model, tokenizer"
   ]
  },
  {
   "cell_type": "code",
   "execution_count": null,
   "metadata": {
    "collapsed": false,
    "jupyter": {
     "outputs_hidden": false
    }
   },
   "outputs": [],
   "source": [
    "iteration = 3\n",
    "model_names = ['llama3','vicuna','mistral']\n",
    "\n",
    "for model_name in model_names:\n",
    "    for i in range(0, iteration):\n",
    "        question_data = pd.read_csv(f'./data/mol_figures/step3/C_NMR_sampled_questions_answers_{i}.csv')\n",
    "        # question_data = question_data.sample(1)\n",
    "        if is_open_source(model_name) and i == 0:\n",
    "            print(model_name)\n",
    "            model, tokenizer = load_model_and_tokenizer(model_paths[model_name],\n",
    "                                                        cache_dir=cache_dir,\n",
    "                                                        low_cpu_mem_usage=True,\n",
    "                                                        use_cache=False,\n",
    "                                                        device='cuda')\n",
    "            # print('running')\n",
    "                                                    \n",
    "        data_frame = pd.DataFrame(columns=[\"Molecule Index\", \"Generated Response\"])\n",
    "        prompts = []\n",
    "        for index, row in question_data.iterrows():\n",
    "            prompt = \"\"\"\n",
    "            As an expert organic chemist, your task is to analyze and determine the one potential structures that can be selected as the starting points for the molecular construction.Utilize your knowledge to systematically explore and identify plausible structural configurations based on the fragment pool provided.Do the analysis internally and only output the final SMILES.\n",
    "            Here is an example:\n",
    "            Target C-NMR Spectrum: 31.1 (6C, s), 34.7 (2C, s), 112.3 (2C, s), 119.3 (1C, s), 152.6 (2C, s), 155.3 (1C, s)\n",
    "            Fragments pool: C=C\n",
    "                            C1=CC=CC=C1\n",
    "                            CC\n",
    "                            CCC\n",
    "                            CC(C)C\n",
    "                            CC(C)(C)C\n",
    "                            O\n",
    "                            C=C-C\n",
    "                            C=C-CC\n",
    "                            C=C-C(O)\n",
    "                            C=C-C(C)\n",
    "            output: C=C-C,\n",
    "                    C=C-C(C)\n",
    "                    \"\"\"\n",
    "            prompt = generate_prompt(prompt)\n",
    "            prompts.append(prompt)\n",
    "        if is_open_source(model_name):\n",
    "            generated_responses = get_llm_response(model_name,model, prompts)\n",
    "            for index, row in question_data.iterrows():\n",
    "                data_frame.loc[len(data_frame)] = [row['Molecule Index'], generated_responses[index]]\n",
    "        else:\n",
    "            for index, row in question_data.iterrows():\n",
    "                generated_response = get_llm_response(model_name,_, prompt)\n",
    "                if 'claude' in model_name:\n",
    "                    generated_response = generated_response.content[0].text\n",
    "                # print(generated_response)\n",
    "                data_frame.loc[len(data_frame)] = [row['Molecule Index'], generated_response]\n",
    "        data_frame.to_csv(f'./data/mol_figures/step3/C_NMR/{model_name}_generated_responses_{i}.csv', index=False)\n",
    "    if is_open_source(model_name):\n",
    "        del model, tokenizer\n",
    "        "
   ]
  },
  {
   "cell_type": "code",
   "execution_count": null,
   "metadata": {
    "ExecuteTime": {
     "end_time": "2024-05-20T22:24:42.125903394Z",
     "start_time": "2024-05-20T22:24:42.109320412Z"
    }
   },
   "outputs": [],
   "source": [
    "import numpy as np\n",
    "model_names = ['llama3','vicuna', 'mistral']\n",
    "for model_name in model_names:\n",
    "    print(model_name)\n",
    "    sa_f1 = []\n",
    "    sa_acc = []\n",
    "    ar_acc = []\n",
    "    ar_f1 = []\n",
    "    fg_acc = []\n",
    "    fg_f1 = []\n",
    "    matchs = []\n",
    "    for i in range(0, 3):\n",
    "        generated_answers = pd.read_csv(f'./data/mol_figures/mol_understanding/cot_{model_name}_generated_responses_{i}.csv')\n",
    "        results = evaluate_responses(generated_answers)\n",
    "        sa_degree_results = evaluate_saturation_degree(generated_answers)\n",
    "        sa_f1.append(results['Saturation']['F1 Score'])\n",
    "        sa_acc.append(results['Saturation']['Accuracy'])\n",
    "        ar_acc.append(results['Aromatic Rings']['Accuracy'])\n",
    "        ar_f1.append(results['Aromatic Rings']['F1 Score'])\n",
    "        fg_acc.append(results['Functional Group']['Accuracy'])\n",
    "        fg_f1.append(results['Functional Group']['F1 Score'])\n",
    "        matchs.append(sa_degree_results['Saturation degree']['Accuracy'])\n",
    "    sa_f1 = np.array(sa_f1)\n",
    "    sa_acc = np.array(sa_acc)\n",
    "    ar_acc = np.array(ar_acc)\n",
    "    ar_f1 = np.array(ar_f1)\n",
    "    fg_acc = np.array(fg_acc)\n",
    "    fg_f1 = np.array(fg_f1)\n",
    "    matchs = np.array(matchs)\n",
    "    print(sa_f1.mean(),ar_f1.mean(),fg_f1.mean())\n",
    "    print(sa_f1.std(),ar_f1.std(),fg_f1.std())\n",
    "    print(sa_acc.mean(),ar_acc.mean(),fg_acc.mean(),matchs.mean())\n",
    "    print(sa_acc.std(),ar_acc.std(),fg_acc.std(),matchs.std())\n",
    "    print(\"f1 mean\",(sa_f1.mean() * 0.2 + ar_f1.mean() * 0.3 + fg_f1.mean() * 0.3 ) / 0.8)\n",
    "    print(\"f1 std\",(sa_f1.std() * 0.2 + ar_f1.std() * 0.3 + fg_f1.std() * 0.3 ) / 0.8)\n",
    "    print(\"acc mean\",(sa_acc.mean() * 0.2 + ar_acc.mean() * 0.3 + fg_acc.mean() * 0.3 ) / 0.8)\n",
    "    print(\"acc std\",(sa_acc.std() * 0.2 + ar_acc.std() * 0.3 + fg_acc.std() * 0.3 ) / 0.8)"
   ]
  }
 ],
 "metadata": {
  "kernelspec": {
   "display_name": "llm",
   "language": "python",
   "name": "llm"
  },
  "language_info": {
   "codemirror_mode": {
    "name": "ipython",
    "version": 3
   },
   "file_extension": ".py",
   "mimetype": "text/x-python",
   "name": "python",
   "nbconvert_exporter": "python",
   "pygments_lexer": "ipython3",
   "version": "3.9.19"
  }
 },
 "nbformat": 4,
 "nbformat_minor": 4
}
